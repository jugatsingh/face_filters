{
 "cells": [
  {
   "cell_type": "code",
   "execution_count": 149,
   "metadata": {},
   "outputs": [],
   "source": [
    "import numpy as np\n",
    "import cv2\n",
    "import torch\n",
    "import os\n",
    "import matplotlib.pyplot as plt\n",
    "import imutils"
   ]
  },
  {
   "cell_type": "code",
   "execution_count": 2,
   "metadata": {},
   "outputs": [],
   "source": [
    "from keypoint_model import keypoint_model"
   ]
  },
  {
   "cell_type": "code",
   "execution_count": 43,
   "metadata": {},
   "outputs": [],
   "source": [
    "def get_image(data_dir, file_name):\n",
    "    path = os.path.join(data_dir, file_name)\n",
    "    image = cv2.imread(path)\n",
    "    image = cv2.cvtColor(image, cv2.COLOR_BGR2RGB)\n",
    "    return image"
   ]
  },
  {
   "cell_type": "code",
   "execution_count": 3,
   "metadata": {},
   "outputs": [],
   "source": [
    "def get_classifier(data_dir, file_name):\n",
    "    path = os.path.join(data_dir, file_name)\n",
    "    classifier = cv2.CascadeClassifier(path)\n",
    "    return classifier"
   ]
  },
  {
   "cell_type": "code",
   "execution_count": 4,
   "metadata": {},
   "outputs": [],
   "source": [
    "def convert_image_to_bw(image):\n",
    "    image = cv2.cvtColor(image, cv2.COLOR_BGR2GRAY)\n",
    "    image = cv2.equalizeHist(image)\n",
    "    return image"
   ]
  },
  {
   "cell_type": "code",
   "execution_count": 108,
   "metadata": {},
   "outputs": [],
   "source": [
    "def detect_faces(classifier, image):\n",
    "#     bw_image = convert_image_to_bw(image)\n",
    "    rects = classifier.detectMultiScale(image, 1.2, 2)\n",
    "#     for x, y, w, h in rects:\n",
    "#         cv2.rectangle(image, (x, y), (x + w, y + h), (0, 255, 0), 2)\n",
    "    return rects"
   ]
  },
  {
   "cell_type": "code",
   "execution_count": 136,
   "metadata": {},
   "outputs": [],
   "source": [
    "def detect_keypoints(model, image, faces, padding = 50):\n",
    "    image_copy = image.copy()\n",
    "    img_height, img_width = image.shape[0], image.shape[1]\n",
    "    images, keypoints = [], []\n",
    "    for coords in faces:\n",
    "        img = image[max(0, coords[1]-padding): min(coords[1]+coords[-1]+padding, img_height), \n",
    "                    max(0, coords[0]-padding): min(coords[0]+coords[2]+padding, img_width)]\n",
    "        img = (img/255.0).astype(np.float32)\n",
    "        img = cv2.resize(img, (224, 224))\n",
    "        images.append(img)\n",
    "        img = cv2.cvtColor(img, cv2.COLOR_BGR2GRAY)\n",
    "        if len(img.shape) == 2:\n",
    "            img = np.expand_dims(img, axis=0)\n",
    "        else:\n",
    "            img = np.rollaxis(img, 2, 0)\n",
    "        img = np.expand_dims(img, axis=0)\n",
    "        img = torch.from_numpy(img).type(torch.FloatTensor)\n",
    "        results = model.forward(img)\n",
    "        results = results.view(results.size()[0], 68, -1).cpu()\n",
    "        pred = results[0].cpu().data\n",
    "        pred = pred.numpy()\n",
    "        pred = pred * 50 + 100\n",
    "        keypoints.append(pred)\n",
    "    return images, keypoints"
   ]
  },
  {
   "cell_type": "code",
   "execution_count": 137,
   "metadata": {},
   "outputs": [],
   "source": [
    "model = keypoint_model()\n",
    "model.load_state_dict(torch.load(\"./models/keypoint_detection_model.pth\", map_location='cpu'))\n",
    "model.eval()\n",
    "classifier = get_classifier(data_dir=\"./models\", file_name=\"face_detection_model.xml\")"
   ]
  },
  {
   "cell_type": "code",
   "execution_count": 264,
   "metadata": {},
   "outputs": [],
   "source": [
    "image = get_image(data_dir=\"./images\", file_name=\"girl.jpg\")\n",
    "faces = detect_faces(classifier=classifier, image=image)"
   ]
  },
  {
   "cell_type": "code",
   "execution_count": 265,
   "metadata": {},
   "outputs": [],
   "source": [
    "images, keypoints = detect_keypoints(faces=faces, image=image, model=model, padding=50)"
   ]
  },
  {
   "cell_type": "code",
   "execution_count": 266,
   "metadata": {},
   "outputs": [],
   "source": [
    "def visualize_output(faces, test_outputs):  \n",
    "    for i, face in enumerate(faces):\n",
    "        plt.figure(figsize=(5, 5))\n",
    "        plt.imshow(face)\n",
    "        plt.scatter(test_outputs[i][:, 0], test_outputs[i][:, 1], s=20, marker='.', c='m')\n",
    "        plt.axis('off')\n",
    "    plt.show()"
   ]
  },
  {
   "cell_type": "code",
   "execution_count": 267,
   "metadata": {},
   "outputs": [],
   "source": [
    "def apply_sunglasses(face, sg_image, keypoints):\n",
    "    eyebrow_height_diff = abs(keypoints[17, 1] - keypoints[26, 1])\n",
    "    eyebrow_width = abs(keypoints[17, 0] - keypoints[26, 0])\n",
    "    eyebrow_angle = np.arctan(eyebrow_height_diff/eyebrow_width)*(180/np.pi)\n",
    "    eyebrow_angle = eyebrow_angle if keypoints[17, 1] < keypoints[26, 1] else -eyebrow_angle\n",
    "    \n",
    "    rotated_sunglasses = imutils.rotate_bound(sg_image, eyebrow_angle)\n",
    "    y = int(min(keypoints[17, 1], keypoints[26, 1]))\n",
    "    h = abs(keypoints[51, 1]-keypoints[27, 1])\n",
    "    w = abs((keypoints[16, 0]+keypoints[26, 0])/2 - (keypoints[17, 0]+keypoints[0, 0])/2)\n",
    "    top_nose = keypoints[27]\n",
    "    rectangle_sunglasses = face[y:int(y+h), int(top_nose[0]-w/2):int(top_nose[0]+w/2)]\n",
    "    new_sunglasses = cv2.resize(rotated_sunglasses, (int(w), int(h)), interpolation = cv2.INTER_CUBIC)\n",
    "    ind = np.argwhere(new_sunglasses[:,:,3] > 0) \n",
    "    for i in range(3):\n",
    "        rectangle_sunglasses[ind[:, 0], ind[:, 1], i] = new_sunglasses[ind[:, 0], ind[:, 1], i]\n",
    "    return face\n",
    "    "
   ]
  },
  {
   "cell_type": "code",
   "execution_count": 268,
   "metadata": {},
   "outputs": [],
   "source": [
    "def apply_dog_filter(face, filt):\n",
    "    filt_h, filt_w, _ = filt.shape\n",
    "    face_h, face_w, _ = face.shape\n",
    "    factor = min(face_h/filt_h, face_w/filt_w)\n",
    "    new_filt_h, new_filt_w = int(filt_h*factor), int(filt_w*factor)\n",
    "    new_filt_shape = (new_filt_h, new_filt_w)\n",
    "    resized_filter = cv2.resize(filt, new_filt_shape)\n",
    "    print(face.shape, resized_filter.shape)\n",
    "    masked_face = face.copy()\n",
    "    non_white_pixels = (resized_filter < 250).all(axis = 2)\n",
    "    offset_h, offset_w = int((face_h-new_filt_h)/2), int((face_w-new_filt_w)/2)\n",
    "    masked_face[offset_h:offset_h+new_filt_h, offset_w:offset_w+new_filt_w][non_white_pixels] = resized_filter[non_white_pixels]\n",
    "    return masked_face"
   ]
  },
  {
   "cell_type": "code",
   "execution_count": 269,
   "metadata": {},
   "outputs": [],
   "source": [
    "dog_filter = cv2.imread(\"./filters/dog.png\")"
   ]
  },
  {
   "cell_type": "code",
   "execution_count": 270,
   "metadata": {},
   "outputs": [],
   "source": [
    "def dog_face_filter(image, classifier, dog_filter):\n",
    "    image_h, image_w = image.shape[0], image.shape[1]\n",
    "    rectangles = detect_faces(classifier=classifier, image=image)\n",
    "    for x, y, w, h in rectangles:\n",
    "        y0, y1 = int(y - 0.25*h), int(y + 0.75*h)\n",
    "        x0, x1 = x, x + w\n",
    "        if x0 < 0 or y0 < 0 or x1 > image_w or y1 > image_h:\n",
    "            continue\n",
    "        image[y0: y1, x0: x1] = apply_dog_filter(image[y0: y1, x0: x1], dog_filter)\n",
    "    return image"
   ]
  },
  {
   "cell_type": "code",
   "execution_count": 271,
   "metadata": {},
   "outputs": [
    {
     "name": "stdout",
     "output_type": "stream",
     "text": [
      "(734, 718, 3)\n"
     ]
    }
   ],
   "source": [
    "dog_filtered_image = dog_face_filter(image, classifier, dog_filter)"
   ]
  },
  {
   "cell_type": "code",
   "execution_count": null,
   "metadata": {},
   "outputs": [],
   "source": []
  }
 ],
 "metadata": {
  "kernelspec": {
   "display_name": "Python 3",
   "language": "python",
   "name": "python3"
  },
  "language_info": {
   "codemirror_mode": {
    "name": "ipython",
    "version": 3
   },
   "file_extension": ".py",
   "mimetype": "text/x-python",
   "name": "python",
   "nbconvert_exporter": "python",
   "pygments_lexer": "ipython3",
   "version": "3.6.5"
  }
 },
 "nbformat": 4,
 "nbformat_minor": 2
}
