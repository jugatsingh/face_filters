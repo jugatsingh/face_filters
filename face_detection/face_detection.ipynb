{
 "cells": [
  {
   "cell_type": "code",
   "execution_count": 1,
   "metadata": {},
   "outputs": [],
   "source": [
    "import cv2\n",
    "import os"
   ]
  },
  {
   "cell_type": "code",
   "execution_count": 2,
   "metadata": {},
   "outputs": [],
   "source": [
    "def get_classifier(data_dir, file_name):\n",
    "    path = os.path.join(data_dir, file_name)\n",
    "    classifier = cv2.CascadeClassifier(path)\n",
    "    return classifier"
   ]
  },
  {
   "cell_type": "code",
   "execution_count": 3,
   "metadata": {},
   "outputs": [],
   "source": [
    "def get_image(data_dir, file_name):\n",
    "    path = os.path.join(data_dir, file_name)\n",
    "    image = cv2.imread(path)\n",
    "    return image"
   ]
  },
  {
   "cell_type": "code",
   "execution_count": 4,
   "metadata": {},
   "outputs": [],
   "source": [
    "def convert_image_to_bw(image):\n",
    "    image = cv2.cvtColor(image, cv2.COLOR_BGR2GRAY)\n",
    "    image = cv2.equalizeHist(image)\n",
    "    return image"
   ]
  },
  {
   "cell_type": "code",
   "execution_count": 5,
   "metadata": {},
   "outputs": [],
   "source": [
    "def detect_faces(classifier, image):\n",
    "    bw_image = convert_image_to_bw(image)\n",
    "    rects = classifier.detectMultiScale(\n",
    "        bw_image, scaleFactor=1.3, minNeighbors=4, minSize=(30, 30),\n",
    "        flags=cv2.CASCADE_SCALE_IMAGE)\n",
    "    for x, y, w, h in rects:\n",
    "        cv2.rectangle(image, (x, y), (x + w, y + h), (0, 255, 0), 2)\n",
    "    return image"
   ]
  },
  {
   "cell_type": "code",
   "execution_count": 6,
   "metadata": {},
   "outputs": [],
   "source": [
    "def main(data_dir, weights_file, image_file, output_dir):\n",
    "    classifier = get_classifier(data_dir, weights_file)\n",
    "    image = get_image(data_dir, image_file)\n",
    "    output = detect_faces(classifier, image)\n",
    "    cv2.imwrite(os.path.join(output_dir, image_file), output)"
   ]
  },
  {
   "cell_type": "code",
   "execution_count": 7,
   "metadata": {},
   "outputs": [],
   "source": [
    "#main(\"assets\", \"haarcascade_frontalface_default.xml\", \"avinash.jpg\", \"outputs\")"
   ]
  },
  {
   "cell_type": "code",
   "execution_count": 8,
   "metadata": {},
   "outputs": [],
   "source": [
    "def detect_real_time(data_dir, weights_file):\n",
    "    classifier = get_classifier(data_dir, weights_file)\n",
    "    capture = cv2.VideoCapture(0)\n",
    "    print(capture.isOpened())\n",
    "    while True:\n",
    "        ret, image = capture.read()\n",
    "        print(image)\n",
    "        output = detect_faces(classifier, image)\n",
    "        cv2.imshow('output', image)\n",
    "        if cv2.waitKey(1) &  0xFF == ord('q'):\n",
    "            break\n",
    "    capture.release()\n",
    "    cv2.destroyAllWindows()"
   ]
  },
  {
   "cell_type": "code",
   "execution_count": null,
   "metadata": {},
   "outputs": [],
   "source": [
    "detect_real_time(\"./assets\", \"haarcascade_frontalface_default.xml\")"
   ]
  },
  {
   "cell_type": "code",
   "execution_count": null,
   "metadata": {},
   "outputs": [],
   "source": []
  }
 ],
 "metadata": {
  "kernelspec": {
   "display_name": "Python 3",
   "language": "python",
   "name": "python3"
  },
  "language_info": {
   "codemirror_mode": {
    "name": "ipython",
    "version": 3
   },
   "file_extension": ".py",
   "mimetype": "text/x-python",
   "name": "python",
   "nbconvert_exporter": "python",
   "pygments_lexer": "ipython3",
   "version": "3.6.5"
  }
 },
 "nbformat": 4,
 "nbformat_minor": 2
}
