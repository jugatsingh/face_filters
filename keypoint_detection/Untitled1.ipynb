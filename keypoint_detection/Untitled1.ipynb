{
 "cells": [
  {
   "cell_type": "code",
   "execution_count": 19,
   "metadata": {},
   "outputs": [],
   "source": [
    "import torch\n",
    "import dlib\n",
    "import cv2\n",
    "import numpy as np"
   ]
  },
  {
   "cell_type": "code",
   "execution_count": 4,
   "metadata": {},
   "outputs": [],
   "source": [
    "PREDICTOR_PATH = \"./shape_predictor_68_face_landmarks.dat\""
   ]
  },
  {
   "cell_type": "code",
   "execution_count": 10,
   "metadata": {},
   "outputs": [],
   "source": [
    "faceDetector = dlib.get_frontal_face_detector()\n",
    "landmarkDetector = dlib.shape_predictor(PREDICTOR_PATH)"
   ]
  },
  {
   "cell_type": "code",
   "execution_count": 11,
   "metadata": {},
   "outputs": [],
   "source": [
    "img= cv2.imread(\"/home/avinash/Desktop/Desktop/27540481_710151025847299_5602874200572782144_n.jpg\")"
   ]
  },
  {
   "cell_type": "code",
   "execution_count": 12,
   "metadata": {},
   "outputs": [],
   "source": [
    "faceRects = faceDetector(img, 0)"
   ]
  },
  {
   "cell_type": "code",
   "execution_count": 14,
   "metadata": {},
   "outputs": [],
   "source": [
    "landmarksAll = []\n",
    "\n",
    "# Loop over all detected face rectangles\n",
    "for i in range(0, len(faceRects)):\n",
    "    newRect = dlib.rectangle(int(faceRects[i].left()),int(faceRects[i].top()),\n",
    "      int(faceRects[i].right()),int(faceRects[i].bottom()))"
   ]
  },
  {
   "cell_type": "code",
   "execution_count": 15,
   "metadata": {},
   "outputs": [],
   "source": [
    "landmarks = landmarkDetector(img, newRect)"
   ]
  },
  {
   "cell_type": "code",
   "execution_count": 17,
   "metadata": {},
   "outputs": [],
   "source": [
    "def drawPolyline(im, landmarks, start, end, isClosed=False):\n",
    "  points = []\n",
    "  for i in range(start, end+1):\n",
    "    point = [landmarks.part(i).x, landmarks.part(i).y]\n",
    "    points.append(point)\n",
    "\n",
    "  points = np.array(points, dtype=np.int32)\n",
    "  cv2.polylines(im, [points], isClosed, (255, 200, 0), thickness=2, lineType=cv2.LINE_8)\n",
    "\n",
    "# Use this function for 70-points facial landmark detector model\n",
    "def renderFace(im, landmarks):\n",
    "    assert(landmarks.num_parts == 68)\n",
    "    drawPolyline(im, landmarks, 0, 16)           # Jaw line\n",
    "    drawPolyline(im, landmarks, 17, 21)          # Left eyebrow\n",
    "    drawPolyline(im, landmarks, 22, 26)          # Right eyebrow\n",
    "    drawPolyline(im, landmarks, 27, 30)          # Nose bridge\n",
    "    drawPolyline(im, landmarks, 30, 35, True)    # Lower nose\n",
    "    drawPolyline(im, landmarks, 36, 41, True)    # Left eye\n",
    "    drawPolyline(im, landmarks, 42, 47, True)    # Right Eye\n",
    "    drawPolyline(im, landmarks, 48, 59, True)    # Outer lip\n",
    "    drawPolyline(im, landmarks, 60, 67, True)    # Inner lip\n",
    "\n",
    "# Use this function for any model other than\n",
    "# 70 points facial_landmark detector model\n",
    "def renderFace2(im, landmarks, color=(0, 255, 0), radius=3):\n",
    "  for p in landmarks.parts():\n",
    "    cv2.circle(im, (p.x, p.y), radius, color, -1)"
   ]
  },
  {
   "cell_type": "code",
   "execution_count": 20,
   "metadata": {},
   "outputs": [],
   "source": [
    "renderFace(img, landmarks)"
   ]
  },
  {
   "cell_type": "code",
   "execution_count": null,
   "metadata": {},
   "outputs": [],
   "source": []
  }
 ],
 "metadata": {
  "kernelspec": {
   "display_name": "Python 3",
   "language": "python",
   "name": "python3"
  },
  "language_info": {
   "codemirror_mode": {
    "name": "ipython",
    "version": 3
   },
   "file_extension": ".py",
   "mimetype": "text/x-python",
   "name": "python",
   "nbconvert_exporter": "python",
   "pygments_lexer": "ipython3",
   "version": "3.6.5"
  }
 },
 "nbformat": 4,
 "nbformat_minor": 2
}
