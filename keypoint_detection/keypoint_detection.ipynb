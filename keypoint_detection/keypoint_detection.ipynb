{
 "cells": [
  {
   "cell_type": "code",
   "execution_count": 3,
   "metadata": {},
   "outputs": [],
   "source": [
    "import numpy as np\n",
    "import pandas as pd\n",
    "import torch\n",
    "from torch.utils.data import Dataset, DataLoader\n",
    "from torch import utils\n",
    "import scipy.ndimage as ndimage\n",
    "from PIL import Image\n",
    "from torchvision import transforms\n",
    "from skimage import io, transform\n",
    "import matplotlib.pyplot as plt\n",
    "import cv2\n",
    "import os\n",
    "from torch import nn, optim\n",
    "import torch.nn.functional as F\n",
    "\n",
    "import warnings\n",
    "warnings.filterwarnings(\"ignore\")"
   ]
  },
  {
   "cell_type": "code",
   "execution_count": 4,
   "metadata": {},
   "outputs": [],
   "source": [
    "def rgb2gray(rgb):\n",
    "    return np.dot(rgb[...,:3], [0.2989, 0.5870, 0.1140])"
   ]
  },
  {
   "cell_type": "code",
   "execution_count": 5,
   "metadata": {},
   "outputs": [],
   "source": [
    "class Parameters:\n",
    "    def __init__(self):\n",
    "        self.image_dir = \"../WFLW_images/\"\n",
    "        self.train_annotations = \"../WFLW_annotations/list_98pt_rect_attr_train_test/list_98pt_rect_attr_train.txt\"\n",
    "        self.test_annotations = \"../WFLW_annotations/list_98pt_rect_attr_train_test/list_98pt_rect_attr_test.txt\"\n",
    "        self.data_transform = transforms.Compose([Rescale(256), RandomCrop(224), ToTensor()])"
   ]
  },
  {
   "cell_type": "code",
   "execution_count": 48,
   "metadata": {},
   "outputs": [],
   "source": [
    "def show_landmarks(image, landmarks):\n",
    "    plt.imshow(image)\n",
    "    plt.scatter(landmarks[:, 0], landmarks[:, 1], s = 10, market = '.', c = 'g')"
   ]
  },
  {
   "cell_type": "code",
   "execution_count": 49,
   "metadata": {},
   "outputs": [],
   "source": [
    "class keypoint_dataset(Dataset):\n",
    "    def __init__(self, opt, typ = 'Train'):\n",
    "        if typ is 'Train':\n",
    "            self.keypoints = pd.read_csv(opt.train_annotations, sep=\" \")\n",
    "        else:\n",
    "            self.keypoints = pd.read_csv(opt.test_annotations, sep = \" \")\n",
    "        self.opt = opt\n",
    "        \n",
    "    def __len__(self):\n",
    "        return len(self.keypoints)\n",
    "    \n",
    "    def __getitem__(self, idx):\n",
    "        image_name = self.keypoints.iloc[idx, -1]\n",
    "        image_path = os.path.join(self.opt.image_dir, image_name)\n",
    "        image = rgb2gray(io.imread(image_path))\n",
    "        keypoints = self.keypoints.iloc[idx, :196].as_matrix()\n",
    "        keypoints = keypoints.astype('float').reshape(-1, 2)\n",
    "        sample = {'image':image, 'keypoints':keypoints}\n",
    "        if self.opt.data_transform is not None:\n",
    "            sample = self.opt.data_transform(sample)\n",
    "        return sample"
   ]
  },
  {
   "cell_type": "code",
   "execution_count": 50,
   "metadata": {},
   "outputs": [],
   "source": [
    "class Rescale(object):\n",
    "    \"\"\"Rescale the image in a sample to a given size.\n",
    "\n",
    "    Args:\n",
    "        output_size (tuple or int): Desired output size. If tuple, output is\n",
    "            matched to output_size. If int, smaller of image edges is matched\n",
    "            to output_size keeping aspect ratio the same.\n",
    "    \"\"\"\n",
    "\n",
    "    def __init__(self, output_size):\n",
    "        assert isinstance(output_size, (int, tuple))\n",
    "        self.output_size = output_size\n",
    "\n",
    "    def __call__(self, sample):\n",
    "        image, landmarks = sample['image'], sample['keypoints']\n",
    "\n",
    "        h, w = image.shape[:2]\n",
    "        if isinstance(self.output_size, int):\n",
    "            if h > w:\n",
    "                new_h, new_w = self.output_size * h / w, self.output_size\n",
    "            else:\n",
    "                new_h, new_w = self.output_size, self.output_size * w / h\n",
    "        else:\n",
    "            new_h, new_w = self.output_size\n",
    "\n",
    "        new_h, new_w = int(new_h), int(new_w)\n",
    "\n",
    "        img = transform.resize(image, (new_h, new_w))\n",
    "\n",
    "        # h and w are swapped for landmarks because for images,\n",
    "        # x and y axes are axis 1 and 0 respectively\n",
    "        landmarks = landmarks * [new_w / w, new_h / h]\n",
    "\n",
    "        return {'image': img, 'keypoints': landmarks}\n",
    "\n",
    "class RandomCrop(object):\n",
    "    \"\"\"Crop randomly the image in a sample.\n",
    "\n",
    "    Args:\n",
    "        output_size (tuple or int): Desired output size. If int, square crop\n",
    "            is made.\n",
    "    \"\"\"\n",
    "\n",
    "    def __init__(self, output_size):\n",
    "        assert isinstance(output_size, (int, tuple))\n",
    "        if isinstance(output_size, int):\n",
    "            self.output_size = (output_size, output_size)\n",
    "        else:\n",
    "            assert len(output_size) == 2\n",
    "            self.output_size = output_size\n",
    "\n",
    "    def __call__(self, sample):\n",
    "        image, landmarks = sample['image'], sample['keypoints']\n",
    "\n",
    "        h, w = image.shape[:2]\n",
    "        new_h, new_w = self.output_size\n",
    "\n",
    "        top = np.random.randint(0, h - new_h)\n",
    "        left = np.random.randint(0, w - new_w)\n",
    "\n",
    "        image = image[top: top + new_h,\n",
    "                      left: left + new_w]\n",
    "\n",
    "        landmarks = landmarks - [left, top]\n",
    "\n",
    "        return {'image': image, 'keypoints': landmarks}\n",
    "    \n",
    "class ToTensor(object):\n",
    "    \"\"\"Convert ndarrays in sample to Tensors.\"\"\"\n",
    "\n",
    "    def __call__(self, sample):\n",
    "        image, keypoints = sample['image'], sample['keypoints']\n",
    "        if len(image.shape) == 2:\n",
    "            image = image[:, :, None]\n",
    "        # swap color axis because\n",
    "        # numpy image: H x W x C\n",
    "        # torch image: C X H X W\n",
    "        image = image.transpose((2, 0, 1))\n",
    "        return {'image': torch.from_numpy(image),\n",
    "                'keypoints': torch.from_numpy(keypoints)}"
   ]
  },
  {
   "cell_type": "code",
   "execution_count": 65,
   "metadata": {},
   "outputs": [],
   "source": [
    "class Keypoint_model(nn.Module):\n",
    "    def __init__(self):\n",
    "        super(Keypoint_model, self).__init__()\n",
    "        self.conv1 = nn.Conv2d(1, 16, 3, padding=1)\n",
    "        self.conv2 = nn.Conv2d(16, 32, 3, padding=1)\n",
    "        self.conv3 = nn.Conv2d(32, 64, 3, padding=1)\n",
    "        self.conv4 = nn.Conv2d(64, 128, 3, padding=1)\n",
    "        self.conv5 = nn.Conv2d(128, 256, 3, padding=1)\n",
    "        self.pool = nn.MaxPool2d(2, 2)\n",
    "\n",
    "        self.fc1 = nn.Linear(256 * 7 * 7, 2048)\n",
    "        self.fc2 = nn.Linear(2048, 600)\n",
    "        self.fc3 = nn.Linear(600, 166)\n",
    "        self.dropout = nn.Dropout(0.3)\n",
    "\n",
    "    def forward(self, x):\n",
    "        x = self.pool(F.relu(self.conv1(x))) # 112\n",
    "        x = self.pool(F.relu(self.conv2(x))) # 56\n",
    "        x = self.pool(F.relu(self.conv3(x))) # 28\n",
    "        x = self.pool(F.relu(self.conv4(x))) # 14\n",
    "        x = self.pool(F.relu(self.conv5(x))) # 7\n",
    "\n",
    "        x = x.view(-1, 256 * 7 * 7)\n",
    "\n",
    "        x = F.relu(self.fc1(x))\n",
    "        x = self.dropout(x)\n",
    "        x = F.relu(self.fc2(x))\n",
    "        x = self.dropout(x)\n",
    "        x = self.fc3(x)\n",
    "\n",
    "        return x"
   ]
  },
  {
   "cell_type": "code",
   "execution_count": 66,
   "metadata": {},
   "outputs": [
    {
     "data": {
      "text/plain": [
       "Keypoint_model(\n",
       "  (conv1): Conv2d(1, 16, kernel_size=(3, 3), stride=(1, 1), padding=(1, 1))\n",
       "  (conv2): Conv2d(16, 32, kernel_size=(3, 3), stride=(1, 1), padding=(1, 1))\n",
       "  (conv3): Conv2d(32, 64, kernel_size=(3, 3), stride=(1, 1), padding=(1, 1))\n",
       "  (conv4): Conv2d(64, 128, kernel_size=(3, 3), stride=(1, 1), padding=(1, 1))\n",
       "  (conv5): Conv2d(128, 256, kernel_size=(3, 3), stride=(1, 1), padding=(1, 1))\n",
       "  (pool): MaxPool2d(kernel_size=2, stride=2, padding=0, dilation=1, ceil_mode=False)\n",
       "  (fc1): Linear(in_features=12544, out_features=2048, bias=True)\n",
       "  (fc2): Linear(in_features=2048, out_features=600, bias=True)\n",
       "  (fc3): Linear(in_features=600, out_features=166, bias=True)\n",
       "  (dropout): Dropout(p=0.3)\n",
       ")"
      ]
     },
     "execution_count": 66,
     "metadata": {},
     "output_type": "execute_result"
    }
   ],
   "source": [
    "device = 'cuda:0' if torch.cuda.is_available() else 'cpu'\n",
    "model = Keypoint_model()\n",
    "model.to(device)"
   ]
  },
  {
   "cell_type": "code",
   "execution_count": 51,
   "metadata": {},
   "outputs": [],
   "source": [
    "parameters = Parameters()\n",
    "train_dataset = keypoint_dataset(parameters)\n",
    "test_dataset = keypoint_dataset(parameters)"
   ]
  },
  {
   "cell_type": "code",
   "execution_count": 7,
   "metadata": {},
   "outputs": [
    {
     "ename": "NameError",
     "evalue": "name 'train_dataset' is not defined",
     "output_type": "error",
     "traceback": [
      "\u001b[0;31m---------------------------------------------------------------------------\u001b[0m",
      "\u001b[0;31mNameError\u001b[0m                                 Traceback (most recent call last)",
      "\u001b[0;32m<ipython-input-7-98fc1801e80c>\u001b[0m in \u001b[0;36m<module>\u001b[0;34m()\u001b[0m\n\u001b[0;32m----> 1\u001b[0;31m \u001b[0mtrain_dataloader\u001b[0m \u001b[0;34m=\u001b[0m \u001b[0mDataLoader\u001b[0m\u001b[0;34m(\u001b[0m\u001b[0mdataset\u001b[0m\u001b[0;34m=\u001b[0m\u001b[0mtrain_dataset\u001b[0m\u001b[0;34m,\u001b[0m \u001b[0mbatch_size\u001b[0m\u001b[0;34m=\u001b[0m\u001b[0;36m5\u001b[0m\u001b[0;34m,\u001b[0m\u001b[0mnum_workers\u001b[0m\u001b[0;34m=\u001b[0m\u001b[0;36m0\u001b[0m\u001b[0;34m,\u001b[0m\u001b[0mshuffle\u001b[0m\u001b[0;34m=\u001b[0m\u001b[0;32mTrue\u001b[0m\u001b[0;34m)\u001b[0m\u001b[0;34m\u001b[0m\u001b[0m\n\u001b[0m\u001b[1;32m      2\u001b[0m \u001b[0mtest_dataloader\u001b[0m \u001b[0;34m=\u001b[0m \u001b[0mDataLoader\u001b[0m\u001b[0;34m(\u001b[0m\u001b[0mdataset\u001b[0m\u001b[0;34m=\u001b[0m\u001b[0mtest_dataset\u001b[0m\u001b[0;34m,\u001b[0m \u001b[0mbatch_size\u001b[0m\u001b[0;34m=\u001b[0m\u001b[0;36m5\u001b[0m\u001b[0;34m,\u001b[0m\u001b[0mnum_workers\u001b[0m\u001b[0;34m=\u001b[0m\u001b[0;36m0\u001b[0m\u001b[0;34m,\u001b[0m\u001b[0mshuffle\u001b[0m\u001b[0;34m=\u001b[0m\u001b[0;32mTrue\u001b[0m\u001b[0;34m)\u001b[0m\u001b[0;34m\u001b[0m\u001b[0m\n",
      "\u001b[0;31mNameError\u001b[0m: name 'train_dataset' is not defined"
     ]
    }
   ],
   "source": [
    "train_dataloader = DataLoader(dataset=train_dataset, batch_size=5,num_workers=0,shuffle=True)\n",
    "test_dataloader = DataLoader(dataset=test_dataset, batch_size=5,num_workers=0,shuffle=True)"
   ]
  },
  {
   "cell_type": "code",
   "execution_count": 8,
   "metadata": {},
   "outputs": [],
   "source": [
    "def early_stopping(val_losses, epoch_threshold=10):\n",
    "    if epoch_threshold > val_losses:\n",
    "        return False\n",
    "    latest_losses = val_losses[-epoch_threshold:]\n",
    "    if len(set(latest_losses)) == 1:\n",
    "        return True\n",
    "    min_loss = min(val_losses)\n",
    "    if min(latest_losses) < min(val_losses[:len(val_losses) - epoch_threshold]):\n",
    "        return False\n",
    "    else:\n",
    "        return True"
   ]
  },
  {
   "cell_type": "code",
   "execution_count": 9,
   "metadata": {},
   "outputs": [],
   "source": [
    "model_dir = 'saved_models/'\n",
    "model_name = 'my_best_model.pt'"
   ]
  },
  {
   "cell_type": "code",
   "execution_count": 10,
   "metadata": {},
   "outputs": [],
   "source": [
    "def train(n_epochs, train_loader, val_loader):\n",
    "    model.train()\n",
    "    train_losses, val_losses = [], []\n",
    "    best_val_loss = float(\"INF\")\n",
    "    \n",
    "    for epoch in range(n_epochs):\n",
    "        print (\"Epoch {}/{}\".format(epoch + 1, n_epochs))\n",
    "        running_loss = 0.0\n",
    "        start_time = time.time()\n",
    "        total_train_loss = 0\n",
    "        \n",
    "        for batch_i, data in enumerate(train_loader):\n",
    "            optimizer.zero_grad()\n",
    "            images = data['image']\n",
    "            keypts = data['keypoints']\n",
    "            keypts = keypts.view(key_pts.size(0), -1)\n",
    "            images, keypts = Variable(images).type(torch.FloatTensor), Variable(keypts).type(torch.FloatTensor)\n",
    "            output_pts = model(images)\n",
    "            loss = criterion(output_pts, key_pts)\n",
    "            loss.backward()\n",
    "            optimizer.step()\n",
    "            total_train_loss += loss.data[0] \n",
    "        avg_train_loss = total_train_loss / len(train_loader)\n",
    "        train_losses.append(avg_train_loss)\n",
    "        print('Epoch: {}, Avg. Loss: {}'.format(epoch + 1, avg_train_loss))\n",
    "        total_val_loss = 0\n",
    "        for batch_i, data in enumerate(val_loader):\n",
    "            images = data['image']\n",
    "            keypts = data['keypoints']\n",
    "            keypts = keypts.view(key_pts.size(0), -1)\n",
    "            images, keypts = Variable(images).type(torch.FloatTensor), Variable(keypts).type(torch.FloatTensor)\n",
    "            output_pts = net(images)\n",
    "            loss = criterion(output_pts, key_pts)\n",
    "            total_val_loss += loss.data[0]\n",
    "        vg_val_loss = total_val_loss / len(val_loader)\n",
    "        val_losses.append(avg_val_loss)\n",
    "        if avg_val_loss < best_val_loss:\n",
    "            torch.save(net.state_dict(), model_dir + model_name)\n",
    "            print (\"val_loss improved from {} to {}, saving model to {}\".format(best_val_loss, \n",
    "                                                                                    avg_val_loss, \n",
    "                                                                                    model_name))\n",
    "            best_val_loss = avg_val_loss\n",
    "        else:\n",
    "            print (\"val_loss did not improve\")\n",
    "            print (\"took {:.2f}s; loss = {:.2f}; val_loss = {:.2f}\".format(time.time() - start_time, \n",
    "                                                                           avg_train_loss, avg_val_loss))\n",
    "        if epoch > 100:\n",
    "            if early_stopping(val_losses, 10):\n",
    "                break   \n",
    "    print('Finished Training')\n",
    "    return train_losses, val_losses"
   ]
  },
  {
   "cell_type": "code",
   "execution_count": null,
   "metadata": {},
   "outputs": [],
   "source": [
    "train(1, train_dataloader, test_dataloader)"
   ]
  }
 ],
 "metadata": {
  "kernelspec": {
   "display_name": "Python 3",
   "language": "python",
   "name": "python3"
  },
  "language_info": {
   "codemirror_mode": {
    "name": "ipython",
    "version": 3
   },
   "file_extension": ".py",
   "mimetype": "text/x-python",
   "name": "python",
   "nbconvert_exporter": "python",
   "pygments_lexer": "ipython3",
   "version": "3.6.5"
  }
 },
 "nbformat": 4,
 "nbformat_minor": 2
}
